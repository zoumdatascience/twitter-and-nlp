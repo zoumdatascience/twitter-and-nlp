{
 "cells": [
  {
   "cell_type": "markdown",
   "metadata": {},
   "source": [
    "# Easily Get TWEETS about a TOPIC on Twitter    \n",
    "In this video we will see how to get the tweets related to covid19, and finally a pandas dataframe containing those tweets."
   ]
  },
  {
   "cell_type": "code",
   "execution_count": 4,
   "metadata": {},
   "outputs": [],
   "source": [
    "# Useful Modules\n",
    "import tweepy as tw\n",
    "import pandas as pd\n",
    "import json"
   ]
  },
  {
   "cell_type": "markdown",
   "metadata": {},
   "source": [
    "### 1- Load Credentials For Authentication      \n",
    "\n",
    "To access the Twitter API, you will need your Twitter developer credentials. I made a separate video explaining how to get them (link: https://www.youtube.com/watch?v=PqqXjwoDQiY).   \n",
    "To make sure nobody else access those credentials but me, I created a json file containing all the information. So the following function is used to load them. "
   ]
  },
  {
   "cell_type": "code",
   "execution_count": 18,
   "metadata": {},
   "outputs": [],
   "source": [
    "def load_credentials(path_to_file):\n",
    "\n",
    "    with open(path_to_file) as json_file:\n",
    "        credentials = json.load(json_file)\n",
    "    return credentials"
   ]
  },
  {
   "cell_type": "markdown",
   "metadata": {},
   "source": [
    "### 1- Access the API   \n",
    "Once I have the credentials, it can then easily access the API "
   ]
  },
  {
   "cell_type": "code",
   "execution_count": 6,
   "metadata": {},
   "outputs": [],
   "source": [
    "def get_API(credentials):\n",
    "    auth = tw.OAuthHandler(credentials['consumer_key'], credentials['consumer_secret'])\n",
    "    auth.set_access_token(credentials['access_token'], credentials['access_token_secret'])\n",
    "    \n",
    "    return tw.API(auth, wait_on_rate_limit=True)"
   ]
  },
  {
   "cell_type": "code",
   "execution_count": 7,
   "metadata": {},
   "outputs": [],
   "source": [
    "credentials = get_credentials('./data/credentials.json')\n",
    "api = get_API(credentials)"
   ]
  },
  {
   "cell_type": "markdown",
   "metadata": {},
   "source": [
    "### 2- Search Tweets     \n",
    "At this stage, I already have the API, so I can start searching for tweets related to a topic, a given date (date_since) and the number of tweets we want to retrieve"
   ]
  },
  {
   "cell_type": "code",
   "execution_count": 17,
   "metadata": {},
   "outputs": [],
   "source": [
    "def search_tweets(search_word, date_since, limit=20):\n",
    "    tweets_cursor = tw.Cursor(api.search,\n",
    "              q=search_words,\n",
    "              lang=\"en\",\n",
    "              since=date_since).items(limit)\n",
    "    \n",
    "    return tweets_cursor"
   ]
  },
  {
   "cell_type": "markdown",
   "metadata": {},
   "source": [
    "Lets say we want tweets containing the term #covid19 since October 1st."
   ]
  },
  {
   "cell_type": "code",
   "execution_count": 9,
   "metadata": {},
   "outputs": [],
   "source": [
    "# Define the search term and the date_since date as variables\n",
    "search_words = \"#covid19\"\n",
    "date_since = \"2020-10-01\" # October 1st"
   ]
  },
  {
   "cell_type": "markdown",
   "metadata": {},
   "source": [
    "In the function above, we used .Cursor() to search twitter for tweets containing the term #covid19. We can restrict the number of tweets returned by specifying a number in the .items() method. .items(15) will return 15 of the most recent tweets."
   ]
  },
  {
   "cell_type": "code",
   "execution_count": 10,
   "metadata": {},
   "outputs": [],
   "source": [
    "covid_cursor = search_tweets(search_words, date_since)"
   ]
  },
  {
   "cell_type": "markdown",
   "metadata": {},
   "source": [
    ".Cursor() returns an object that you can iterate or loop over to access the data collected. Each item in the iterator has various attributes that you can access to get information about each tweet including:\n",
    "\n",
    "- the text of the tweet  \n",
    "- the person who posted the tweet  \n",
    "- the date the tweet was posted   \n",
    "- and more.    "
   ]
  },
  {
   "cell_type": "code",
   "execution_count": 11,
   "metadata": {},
   "outputs": [
    {
     "name": "stdout",
     "output_type": "stream",
     "text": [
      "Tweet N° 1: RT @newschambers: Government expected to introduce \"Level 4+\" restrictions today.\n",
      "\n",
      "Three steps to the day:\n",
      "\n",
      "▶️ Cabinet Sub-Committee meetin…\n",
      "\n",
      "Tweet N° 2: RT @drsfaizanahmad: Meet my #COVID duty colleague Dr Arup Senapati an ENT surgeon at Silchar medical college Assam .\n",
      "Dancing infront of COV…\n",
      "\n",
      "Tweet N° 3: RT @drsfaizanahmad: Meet my #COVID duty colleague Dr Arup Senapati an ENT surgeon at Silchar medical college Assam .\n",
      "Dancing infront of COV…\n",
      "\n",
      "Tweet N° 4: RT @vijay27anand: From Whatsapp forward. Wake up people #COVID19 is not over yet, many countries and districts in India are in starting sec…\n",
      "\n",
      "Tweet N° 5: RT @ShashiTharoor: Brilliantly appropriate #covid19-themed Durga Puja creativity from Kolkata, with the goddess slaying the virus! Salutati…\n",
      "\n",
      "Tweet N° 6: RT @ShashiTharoor: Brilliantly appropriate #covid19-themed Durga Puja creativity from Kolkata, with the goddess slaying the virus! Salutati…\n",
      "\n",
      "Tweet N° 7: #BREAKING: Global #COVID19 cases surpass 40 mln: Johns Hopkins University\n",
      "\n",
      "Tweet N° 8: RT @NCDCgov: Parents, teachers, school authorities should #TakeResponsibility to protect themselves &amp; students from #COVID19;\n",
      "\n",
      "✅A medical s…\n",
      "\n",
      "Tweet N° 9: RT @drsfaizanahmad: Meet my #COVID duty colleague Dr Arup Senapati an ENT surgeon at Silchar medical college Assam .\n",
      "Dancing infront of COV…\n",
      "\n",
      "Tweet N° 10: RT @mencap_charity: Activism Week is here!📣\n",
      "Government #Coronavirus briefings can be confusing. 😖\n",
      "Especially if you have a #LearningDisabil…\n",
      "\n",
      "Tweet N° 11: RT @DrEricDing: 4) this was the followup of the investigation from the outbreak reported last month. My god they did literally 3 million te…\n",
      "\n",
      "Tweet N° 12: RT @drsfaizanahmad: Meet my #COVID duty colleague Dr Arup Senapati an ENT surgeon at Silchar medical college Assam .\n",
      "Dancing infront of COV…\n",
      "\n",
      "Tweet N° 13: RT @NST_Online: #NSTlifestyle: The third largest #cinema chain operator in #Malaysia, #MBOCinemas, will be shutting its doors for good due…\n",
      "\n",
      "Tweet N° 14: RT @QuickTake: BREAKING: Global #Covid19 cases surpass 40 million as cases in Europe surge.\n",
      "\n",
      "More @business: https://t.co/ohZfSLpDuU https:…\n",
      "\n",
      "Tweet N° 15: RT @ShashiTharoor: Brilliantly appropriate #covid19-themed Durga Puja creativity from Kolkata, with the goddess slaying the virus! Salutati…\n",
      "\n"
     ]
    }
   ],
   "source": [
    "i=0\n",
    "for tweet in covid_cursor:\n",
    "    i=i+1\n",
    "    print(f\"Tweet N° {i}: {tweet.text}\\n\")"
   ]
  },
  {
   "cell_type": "code",
   "execution_count": null,
   "metadata": {},
   "outputs": [],
   "source": []
  },
  {
   "cell_type": "markdown",
   "metadata": {},
   "source": [
    "### Transform the tweets into Pandas DataFrame"
   ]
  },
  {
   "cell_type": "code",
   "execution_count": 12,
   "metadata": {},
   "outputs": [],
   "source": [
    "\"\"\"\n",
    "Function creating pandas dataframe from Cursor\n",
    "\"\"\"\n",
    "def create_df_from_cursor(tweet_cursor):\n",
    "   \n",
    "    all_tweets = []\n",
    "    \n",
    "    for tweet in tweet_cursor:\n",
    "        parsed_tweet = {}\n",
    "        parsed_tweet['date'] = tweet.created_at\n",
    "        parsed_tweet['author'] = tweet.user.name\n",
    "        parsed_tweet['twitter_name'] = tweet.user.screen_name\n",
    "        parsed_tweet['text'] = tweet.text\n",
    "        parsed_tweet['number_of_likes'] = tweet.favorite_count\n",
    "        parsed_tweet['number_of_retweets'] = tweet.retweet_count\n",
    "        \n",
    "        all_tweets.append(parsed_tweet)\n",
    "    \n",
    "    tweets_df = pd.DataFrame(all_tweets)\n",
    "    \n",
    "    # Remove duplicates\n",
    "    tweets_df = tweets_df.drop_duplicates( \"text\" , keep='first')\n",
    "    \n",
    "    return tweets_df "
   ]
  },
  {
   "cell_type": "markdown",
   "metadata": {},
   "source": [
    "### 3- Final Step - Putting All Together"
   ]
  },
  {
   "cell_type": "code",
   "execution_count": 13,
   "metadata": {},
   "outputs": [],
   "source": [
    "covid_cursor = search_tweets(search_words, date_since)"
   ]
  },
  {
   "cell_type": "code",
   "execution_count": 14,
   "metadata": {},
   "outputs": [],
   "source": [
    "df = create_df_from_cursor(covid_cursor)"
   ]
  },
  {
   "cell_type": "code",
   "execution_count": 15,
   "metadata": {},
   "outputs": [
    {
     "data": {
      "text/plain": [
       "(10, 6)"
      ]
     },
     "execution_count": 15,
     "metadata": {},
     "output_type": "execute_result"
    }
   ],
   "source": [
    "df.shape"
   ]
  },
  {
   "cell_type": "code",
   "execution_count": 16,
   "metadata": {},
   "outputs": [
    {
     "data": {
      "text/html": [
       "<div>\n",
       "<style scoped>\n",
       "    .dataframe tbody tr th:only-of-type {\n",
       "        vertical-align: middle;\n",
       "    }\n",
       "\n",
       "    .dataframe tbody tr th {\n",
       "        vertical-align: top;\n",
       "    }\n",
       "\n",
       "    .dataframe thead th {\n",
       "        text-align: right;\n",
       "    }\n",
       "</style>\n",
       "<table border=\"1\" class=\"dataframe\">\n",
       "  <thead>\n",
       "    <tr style=\"text-align: right;\">\n",
       "      <th></th>\n",
       "      <th>date</th>\n",
       "      <th>author</th>\n",
       "      <th>twitter_name</th>\n",
       "      <th>text</th>\n",
       "      <th>number_of_likes</th>\n",
       "      <th>number_of_retweets</th>\n",
       "    </tr>\n",
       "  </thead>\n",
       "  <tbody>\n",
       "    <tr>\n",
       "      <th>0</th>\n",
       "      <td>2020-10-19 08:57:16</td>\n",
       "      <td>Mooses Me Grapely</td>\n",
       "      <td>culturalfatwa</td>\n",
       "      <td>RT @newschambers: Government expected to intro...</td>\n",
       "      <td>0</td>\n",
       "      <td>25</td>\n",
       "    </tr>\n",
       "    <tr>\n",
       "      <th>1</th>\n",
       "      <td>2020-10-19 08:57:16</td>\n",
       "      <td>Chandan Pradhan</td>\n",
       "      <td>CPradhan07</td>\n",
       "      <td>RT @drsfaizanahmad: Meet my #COVID duty collea...</td>\n",
       "      <td>0</td>\n",
       "      <td>6215</td>\n",
       "    </tr>\n",
       "    <tr>\n",
       "      <th>3</th>\n",
       "      <td>2020-10-19 08:57:15</td>\n",
       "      <td>premin shijo</td>\n",
       "      <td>premin_shijo</td>\n",
       "      <td>RT @vijay27anand: From Whatsapp forward. Wake ...</td>\n",
       "      <td>0</td>\n",
       "      <td>25</td>\n",
       "    </tr>\n",
       "    <tr>\n",
       "      <th>4</th>\n",
       "      <td>2020-10-19 08:57:15</td>\n",
       "      <td>Mayank</td>\n",
       "      <td>simply_mayank</td>\n",
       "      <td>RT @ShashiTharoor: Brilliantly appropriate #co...</td>\n",
       "      <td>0</td>\n",
       "      <td>447</td>\n",
       "    </tr>\n",
       "    <tr>\n",
       "      <th>6</th>\n",
       "      <td>2020-10-19 08:57:14</td>\n",
       "      <td>Global.TV</td>\n",
       "      <td>GlobalTelevsion</td>\n",
       "      <td>#BREAKING: Global #COVID19 cases surpass 40 ml...</td>\n",
       "      <td>0</td>\n",
       "      <td>0</td>\n",
       "    </tr>\n",
       "  </tbody>\n",
       "</table>\n",
       "</div>"
      ],
      "text/plain": [
       "                 date             author     twitter_name  \\\n",
       "0 2020-10-19 08:57:16  Mooses Me Grapely    culturalfatwa   \n",
       "1 2020-10-19 08:57:16    Chandan Pradhan       CPradhan07   \n",
       "3 2020-10-19 08:57:15       premin shijo     premin_shijo   \n",
       "4 2020-10-19 08:57:15             Mayank    simply_mayank   \n",
       "6 2020-10-19 08:57:14          Global.TV  GlobalTelevsion   \n",
       "\n",
       "                                                text  number_of_likes  \\\n",
       "0  RT @newschambers: Government expected to intro...                0   \n",
       "1  RT @drsfaizanahmad: Meet my #COVID duty collea...                0   \n",
       "3  RT @vijay27anand: From Whatsapp forward. Wake ...                0   \n",
       "4  RT @ShashiTharoor: Brilliantly appropriate #co...                0   \n",
       "6  #BREAKING: Global #COVID19 cases surpass 40 ml...                0   \n",
       "\n",
       "   number_of_retweets  \n",
       "0                  25  \n",
       "1                6215  \n",
       "3                  25  \n",
       "4                 447  \n",
       "6                   0  "
      ]
     },
     "execution_count": 16,
     "metadata": {},
     "output_type": "execute_result"
    }
   ],
   "source": [
    "df.head()"
   ]
  },
  {
   "cell_type": "code",
   "execution_count": null,
   "metadata": {},
   "outputs": [],
   "source": []
  }
 ],
 "metadata": {
  "kernelspec": {
   "display_name": "Python 3",
   "language": "python",
   "name": "python3"
  },
  "language_info": {
   "codemirror_mode": {
    "name": "ipython",
    "version": 3
   },
   "file_extension": ".py",
   "mimetype": "text/x-python",
   "name": "python",
   "nbconvert_exporter": "python",
   "pygments_lexer": "ipython3",
   "version": "3.6.8"
  }
 },
 "nbformat": 4,
 "nbformat_minor": 4
}
