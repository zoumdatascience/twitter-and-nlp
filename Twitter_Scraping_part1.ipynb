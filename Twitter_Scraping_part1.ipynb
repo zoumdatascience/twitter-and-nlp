{
 "cells": [
  {
   "cell_type": "markdown",
   "metadata": {},
   "source": [
    "# Easily Get TWEETS about a TOPIC on Twitter    \n",
    "In this video we will see how to get the tweets related to covid19, and finally a pandas dataframe containing those tweets."
   ]
  },
  {
   "cell_type": "code",
   "execution_count": 6,
   "metadata": {},
   "outputs": [],
   "source": [
    "# Useful Modules\n",
    "import tweepy as tw\n",
    "import pandas as pd\n",
    "import json"
   ]
  },
  {
   "cell_type": "markdown",
   "metadata": {},
   "source": [
    "### 1- Load Credentials For Authentication      \n",
    "\n",
    "To access the Twitter API, you will need your Twitter developer credentials. I made a separate video explaining how to get them (link: https://www.youtube.com/watch?v=PqqXjwoDQiY).   \n",
    "To make sure nobody else access those credentials but me, I created a json file containing all the information. So the following function is used to load them. "
   ]
  },
  {
   "cell_type": "code",
   "execution_count": 7,
   "metadata": {},
   "outputs": [],
   "source": [
    "def load_credentials(path_to_file):\n",
    "\n",
    "    with open(path_to_file) as json_file:\n",
    "        credentials = json.load(json_file)\n",
    "    return credentials"
   ]
  },
  {
   "cell_type": "markdown",
   "metadata": {},
   "source": [
    "### 1- Access the API   \n",
    "Once I have the credentials, it can then easily access the API "
   ]
  },
  {
   "cell_type": "code",
   "execution_count": 8,
   "metadata": {},
   "outputs": [],
   "source": [
    "def get_API(credentials):\n",
    "    auth = tw.OAuthHandler(credentials['consumer_key'], credentials['consumer_secret'])\n",
    "    auth.set_access_token(credentials['access_token'], credentials['access_token_secret'])\n",
    "    \n",
    "    return tw.API(auth, wait_on_rate_limit=True)"
   ]
  },
  {
   "cell_type": "code",
   "execution_count": 9,
   "metadata": {},
   "outputs": [],
   "source": [
    "credentials = load_credentials('./data/credentials.json')\n",
    "api = get_API(credentials)"
   ]
  },
  {
   "cell_type": "markdown",
   "metadata": {},
   "source": [
    "### 2- Search Tweets     \n",
    "At this stage, I already have the API, so I can start searching for tweets related to a topic, a given date (date_since) and the number of tweets we want to retrieve"
   ]
  },
  {
   "cell_type": "code",
   "execution_count": 10,
   "metadata": {},
   "outputs": [],
   "source": [
    "def search_tweets(search_word, date_since, limit=20):\n",
    "    tweets_cursor = tw.Cursor(api.search,\n",
    "              q=search_words,\n",
    "              lang=\"en\",\n",
    "              since=date_since).items(limit)\n",
    "    \n",
    "    return tweets_cursor"
   ]
  },
  {
   "cell_type": "markdown",
   "metadata": {},
   "source": [
    "Lets say we want tweets containing the term #covid19 since October 1st."
   ]
  },
  {
   "cell_type": "code",
   "execution_count": 11,
   "metadata": {},
   "outputs": [],
   "source": [
    "# Define the search term and the date_since date as variables\n",
    "search_words = \"#covid19\"\n",
    "date_since = \"2020-10-01\" # October 1st"
   ]
  },
  {
   "cell_type": "markdown",
   "metadata": {},
   "source": [
    "In the function above, we used .Cursor() to search twitter for tweets containing the term #covid19. We can restrict the number of tweets returned by specifying a number in the .items() method. .items(15) will return 15 of the most recent tweets."
   ]
  },
  {
   "cell_type": "code",
   "execution_count": 12,
   "metadata": {},
   "outputs": [],
   "source": [
    "covid_cursor = search_tweets(search_words, date_since)"
   ]
  },
  {
   "cell_type": "markdown",
   "metadata": {},
   "source": [
    ".Cursor() returns an object that you can iterate or loop over to access the data collected. Each item in the iterator has various attributes that you can access to get information about each tweet including:\n",
    "\n",
    "- the text of the tweet  \n",
    "- the person who posted the tweet  \n",
    "- the date the tweet was posted   \n",
    "- and more.    "
   ]
  },
  {
   "cell_type": "code",
   "execution_count": 13,
   "metadata": {},
   "outputs": [
    {
     "name": "stdout",
     "output_type": "stream",
     "text": [
      "Tweet N° 1: RT @FaceTheNation: “There’s not going to be an intervention that really thwarts this, short of the ability to get a vaccine, which is proba…\n",
      "\n",
      "Tweet N° 2: RT @QuickTake: \"A 2nd Jacinda Ardern term is going to be full of all sorts of different challenges to the ones that characterized the first…\n",
      "\n",
      "Tweet N° 3: RT @MickyJo98017844: So my genius of a nephew decided to tell his distraught little sister that Christmas is canceled because Santa Claus h…\n",
      "\n",
      "Tweet N° 4: « One recent study of 100 recovered adults found that 78 of them showed signs of heart damage. We have no idea whet… https://t.co/LZKvdFNJLB\n",
      "\n",
      "Tweet N° 5: @SenKamalaHarris Trump has failed America on #covid19. He threatens our health &amp; national security. If a Covid19 di… https://t.co/ZU3pbfkeKa\n",
      "\n",
      "Tweet N° 6: RT @AnkitLal: I would miss Durga Puja at CR Park.\n",
      "\n",
      "But strongly believe that the decision by local people to not have public celebrations w…\n",
      "\n",
      "Tweet N° 7: @fuseboo @Rickie_Special Since #COVID19 stops us from traveling, read A Life Afloat which is #11 in #travel… https://t.co/U1JocJFIIT\n",
      "\n",
      "Tweet N° 8: RT @AlexInAir: South Korea: Airport testing for passengers since March \n",
      "\n",
      "Hong Kong, Japan: Testing inbound travellers since April\n",
      "\n",
      "Austria:…\n",
      "\n",
      "Tweet N° 9: RT @DrEricDing: 2) in case you missed the GREATEST THING ON TWITTER this weekend... this “Wear your mask” remake of Beauty and the Beast’s…\n",
      "\n",
      "Tweet N° 10: RT @drsfaizanahmad: Meet my #COVID duty colleague Dr Arup Senapati an ENT surgeon at Silchar medical college Assam .\n",
      "Dancing infront of COV…\n",
      "\n",
      "Tweet N° 11: RT @drsfaizanahmad: Meet my #COVID duty colleague Dr Arup Senapati an ENT surgeon at Silchar medical college Assam .\n",
      "Dancing infront of COV…\n",
      "\n",
      "Tweet N° 12: RT @drsfaizanahmad: Meet my #COVID duty colleague Dr Arup Senapati an ENT surgeon at Silchar medical college Assam .\n",
      "Dancing infront of COV…\n",
      "\n",
      "Tweet N° 13: Coronavirus outbreaks in our schools are defined as \"two or more cases linked by time and place to one setting\"… https://t.co/b3QY00rssK\n",
      "\n",
      "Tweet N° 14: RT @theRCOT: Phone and video calls mean students can carry out placements in a range of settings during #COVID19. Draw inspiration from the…\n",
      "\n",
      "Tweet N° 15: RT @ShashiTharoor: Brilliantly appropriate #covid19-themed Durga Puja creativity from Kolkata, with the goddess slaying the virus! Salutati…\n",
      "\n",
      "Tweet N° 16: RT @drsfaizanahmad: Meet my #COVID duty colleague Dr Arup Senapati an ENT surgeon at Silchar medical college Assam .\n",
      "Dancing infront of COV…\n",
      "\n",
      "Tweet N° 17: RT @AmerHeartYTown: More time at home during the #COVID19 pandemic can be a heart-healthy opportunity. Eating nutritiously, staying active…\n",
      "\n",
      "Tweet N° 18: RT @HSELive: You can help slow the spread of #COVID19 by simply cleaning your hands. Use soap and water or alcohol hand rub to clean your h…\n",
      "\n",
      "Tweet N° 19: RT @HighWireTalk: Dr. Richard Bartlett’s #Covid19 protocol has successfully treated thousands of patients using an asthma drug that has bee…\n",
      "\n",
      "Tweet N° 20: RT @DrEricDing: FOLKS—we found who created the epic “Wear a Mask” Beauty &amp; the Beast video!\n",
      "\n",
      "Created and sung by Noah Lindquist @noahlindqu…\n",
      "\n"
     ]
    }
   ],
   "source": [
    "i=0\n",
    "for tweet in covid_cursor:\n",
    "    i=i+1\n",
    "    print(f\"Tweet N° {i}: {tweet.text}\\n\")"
   ]
  },
  {
   "cell_type": "code",
   "execution_count": null,
   "metadata": {},
   "outputs": [],
   "source": []
  },
  {
   "cell_type": "markdown",
   "metadata": {},
   "source": [
    "### Transform the tweets into Pandas DataFrame"
   ]
  },
  {
   "cell_type": "code",
   "execution_count": 14,
   "metadata": {},
   "outputs": [],
   "source": [
    "\"\"\"\n",
    "Function creating pandas dataframe from Cursor\n",
    "\"\"\"\n",
    "def create_df_from_cursor(tweet_cursor):\n",
    "   \n",
    "    all_tweets = []\n",
    "    \n",
    "    for tweet in tweet_cursor:\n",
    "        parsed_tweet = {}\n",
    "        parsed_tweet['date'] = tweet.created_at\n",
    "        parsed_tweet['author'] = tweet.user.name\n",
    "        parsed_tweet['twitter_name'] = tweet.user.screen_name\n",
    "        parsed_tweet['text'] = tweet.text\n",
    "        parsed_tweet['number_of_likes'] = tweet.favorite_count\n",
    "        parsed_tweet['number_of_retweets'] = tweet.retweet_count\n",
    "        \n",
    "        all_tweets.append(parsed_tweet)\n",
    "    \n",
    "    tweets_df = pd.DataFrame(all_tweets)\n",
    "    \n",
    "    # Remove duplicates\n",
    "    tweets_df = tweets_df.drop_duplicates( \"text\" , keep='first')\n",
    "    \n",
    "    return tweets_df "
   ]
  },
  {
   "cell_type": "markdown",
   "metadata": {},
   "source": [
    "### 3- Final Step - Putting All Together"
   ]
  },
  {
   "cell_type": "code",
   "execution_count": 15,
   "metadata": {},
   "outputs": [],
   "source": [
    "covid_cursor = search_tweets(search_words, date_since)"
   ]
  },
  {
   "cell_type": "code",
   "execution_count": 16,
   "metadata": {},
   "outputs": [],
   "source": [
    "df = create_df_from_cursor(covid_cursor)"
   ]
  },
  {
   "cell_type": "code",
   "execution_count": 17,
   "metadata": {},
   "outputs": [
    {
     "data": {
      "text/plain": [
       "(17, 6)"
      ]
     },
     "execution_count": 17,
     "metadata": {},
     "output_type": "execute_result"
    }
   ],
   "source": [
    "df.shape"
   ]
  },
  {
   "cell_type": "code",
   "execution_count": 18,
   "metadata": {},
   "outputs": [
    {
     "data": {
      "text/html": [
       "<div>\n",
       "<style scoped>\n",
       "    .dataframe tbody tr th:only-of-type {\n",
       "        vertical-align: middle;\n",
       "    }\n",
       "\n",
       "    .dataframe tbody tr th {\n",
       "        vertical-align: top;\n",
       "    }\n",
       "\n",
       "    .dataframe thead th {\n",
       "        text-align: right;\n",
       "    }\n",
       "</style>\n",
       "<table border=\"1\" class=\"dataframe\">\n",
       "  <thead>\n",
       "    <tr style=\"text-align: right;\">\n",
       "      <th></th>\n",
       "      <th>date</th>\n",
       "      <th>author</th>\n",
       "      <th>twitter_name</th>\n",
       "      <th>text</th>\n",
       "      <th>number_of_likes</th>\n",
       "      <th>number_of_retweets</th>\n",
       "    </tr>\n",
       "  </thead>\n",
       "  <tbody>\n",
       "    <tr>\n",
       "      <th>0</th>\n",
       "      <td>2020-10-19 10:44:28</td>\n",
       "      <td>PerSueTheDreamNow</td>\n",
       "      <td>suevess</td>\n",
       "      <td>RT @FaceTheNation: “There’s not going to be an...</td>\n",
       "      <td>0</td>\n",
       "      <td>152</td>\n",
       "    </tr>\n",
       "    <tr>\n",
       "      <th>1</th>\n",
       "      <td>2020-10-19 10:44:28</td>\n",
       "      <td>Owen Franks</td>\n",
       "      <td>TheGingerJourno</td>\n",
       "      <td>RT @QuickTake: \"A 2nd Jacinda Ardern term is g...</td>\n",
       "      <td>0</td>\n",
       "      <td>7</td>\n",
       "    </tr>\n",
       "    <tr>\n",
       "      <th>2</th>\n",
       "      <td>2020-10-19 10:44:28</td>\n",
       "      <td>Duchess of Dalston #FBPE #FBR</td>\n",
       "      <td>DalstonOf</td>\n",
       "      <td>RT @MickyJo98017844: So my genius of a nephew ...</td>\n",
       "      <td>0</td>\n",
       "      <td>3</td>\n",
       "    </tr>\n",
       "    <tr>\n",
       "      <th>3</th>\n",
       "      <td>2020-10-19 10:44:27</td>\n",
       "      <td>Olivier Racle</td>\n",
       "      <td>olivieracle</td>\n",
       "      <td>« One recent study of 100 recovered adults fou...</td>\n",
       "      <td>0</td>\n",
       "      <td>0</td>\n",
       "    </tr>\n",
       "    <tr>\n",
       "      <th>4</th>\n",
       "      <td>2020-10-19 10:44:27</td>\n",
       "      <td>EJ</td>\n",
       "      <td>congosdad</td>\n",
       "      <td>@SenKamalaHarris Trump has failed America on #...</td>\n",
       "      <td>0</td>\n",
       "      <td>0</td>\n",
       "    </tr>\n",
       "  </tbody>\n",
       "</table>\n",
       "</div>"
      ],
      "text/plain": [
       "                 date                         author     twitter_name  \\\n",
       "0 2020-10-19 10:44:28              PerSueTheDreamNow          suevess   \n",
       "1 2020-10-19 10:44:28                    Owen Franks  TheGingerJourno   \n",
       "2 2020-10-19 10:44:28  Duchess of Dalston #FBPE #FBR        DalstonOf   \n",
       "3 2020-10-19 10:44:27                  Olivier Racle      olivieracle   \n",
       "4 2020-10-19 10:44:27                             EJ        congosdad   \n",
       "\n",
       "                                                text  number_of_likes  \\\n",
       "0  RT @FaceTheNation: “There’s not going to be an...                0   \n",
       "1  RT @QuickTake: \"A 2nd Jacinda Ardern term is g...                0   \n",
       "2  RT @MickyJo98017844: So my genius of a nephew ...                0   \n",
       "3  « One recent study of 100 recovered adults fou...                0   \n",
       "4  @SenKamalaHarris Trump has failed America on #...                0   \n",
       "\n",
       "   number_of_retweets  \n",
       "0                 152  \n",
       "1                   7  \n",
       "2                   3  \n",
       "3                   0  \n",
       "4                   0  "
      ]
     },
     "execution_count": 18,
     "metadata": {},
     "output_type": "execute_result"
    }
   ],
   "source": [
    "df.head()"
   ]
  },
  {
   "cell_type": "code",
   "execution_count": null,
   "metadata": {},
   "outputs": [],
   "source": []
  }
 ],
 "metadata": {
  "kernelspec": {
   "display_name": "Python 3",
   "language": "python",
   "name": "python3"
  },
  "language_info": {
   "codemirror_mode": {
    "name": "ipython",
    "version": 3
   },
   "file_extension": ".py",
   "mimetype": "text/x-python",
   "name": "python",
   "nbconvert_exporter": "python",
   "pygments_lexer": "ipython3",
   "version": "3.6.8"
  }
 },
 "nbformat": 4,
 "nbformat_minor": 4
}
